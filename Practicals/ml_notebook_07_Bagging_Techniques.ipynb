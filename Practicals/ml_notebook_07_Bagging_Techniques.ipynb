{
 "cells": [
  {
   "cell_type": "markdown",
   "id": "7c3092a3",
   "metadata": {},
   "source": [
    "## Bagging Classifier"
   ]
  },
  {
   "cell_type": "code",
   "execution_count": 1,
   "id": "20ac4671",
   "metadata": {},
   "outputs": [
    {
     "name": "stdout",
     "output_type": "stream",
     "text": [
      "Accuracy: 1.0\n"
     ]
    }
   ],
   "source": [
    "from sklearn.datasets import load_iris\n",
    "from sklearn.model_selection import train_test_split\n",
    "from sklearn.ensemble import BaggingClassifier\n",
    "from sklearn.tree import DecisionTreeClassifier\n",
    "from sklearn.metrics import accuracy_score\n",
    "\n",
    "# Load dataset\n",
    "data = load_iris()\n",
    "X = data.data\n",
    "y = data.target\n",
    "\n",
    "# Split dataset\n",
    "X_train, X_test, y_train, y_test = train_test_split(X, y, test_size=0.3, random_state=42)\n",
    "\n",
    "# Define base model\n",
    "base_model = DecisionTreeClassifier()\n",
    "\n",
    "# Create Bagging Classifier\n",
    "bagging_clf = BaggingClassifier(base_model, n_estimators=50)\n",
    "\n",
    "# Train model\n",
    "bagging_clf.fit(X_train, y_train)\n",
    "\n",
    "# Predict\n",
    "y_pred = bagging_clf.predict(X_test)\n",
    "\n",
    "# Evaluate\n",
    "print(\"Accuracy:\", accuracy_score(y_test, y_pred))\n"
   ]
  },
  {
   "cell_type": "markdown",
   "id": "2815039a",
   "metadata": {},
   "source": [
    "## Bagging Regressor"
   ]
  },
  {
   "cell_type": "code",
   "execution_count": 2,
   "id": "3b2b399d",
   "metadata": {},
   "outputs": [
    {
     "name": "stdout",
     "output_type": "stream",
     "text": [
      "MSE: 0.2579153056796594\n"
     ]
    }
   ],
   "source": [
    "from sklearn.datasets import fetch_california_housing\n",
    "from sklearn.model_selection import train_test_split\n",
    "from sklearn.ensemble import BaggingRegressor\n",
    "from sklearn.tree import DecisionTreeRegressor\n",
    "from sklearn.metrics import mean_squared_error\n",
    "\n",
    "# Load dataset\n",
    "data = fetch_california_housing()\n",
    "X = data.data\n",
    "y = data.target\n",
    "\n",
    "# Split dataset\n",
    "X_train, X_test, y_train, y_test = train_test_split(X, y, test_size=0.3, random_state=42)\n",
    "\n",
    "# Define base model\n",
    "base_model = DecisionTreeRegressor()\n",
    "\n",
    "# Create Bagging Regressor\n",
    "bagging_reg = BaggingRegressor(base_model, n_estimators=50, random_state=42)\n",
    "\n",
    "# Train model\n",
    "bagging_reg.fit(X_train, y_train)\n",
    "\n",
    "# Predict\n",
    "y_pred = bagging_reg.predict(X_test)\n",
    "\n",
    "# Evaluate\n",
    "print(\"MSE:\", mean_squared_error(y_test, y_pred))"
   ]
  },
  {
   "cell_type": "markdown",
   "id": "8c8f08f4",
   "metadata": {},
   "source": [
    "In the code snippet, `BaggingClassifier` with `n_estimators=50`. This means that the ensemble will consist of 50 different models. \n",
    "\n",
    "Here’s a breakdown:\n",
    "\n",
    "- **`BaggingClassifier(base_model, n_estimators=50)`**: This line creates a bagging ensemble with 50 base models. Each of these 50 models is trained on a different bootstrap sample of the training data.\n",
    "\n",
    "There are 50 models in the bagging ensemble created by the `BaggingClassifier` in your code."
   ]
  },
  {
   "cell_type": "markdown",
   "id": "83ce4f56",
   "metadata": {},
   "source": [
    "## Custom Bagging Classifier with Multiple Algorithms"
   ]
  },
  {
   "cell_type": "code",
   "execution_count": 3,
   "id": "a7d8d2ad",
   "metadata": {},
   "outputs": [
    {
     "name": "stdout",
     "output_type": "stream",
     "text": [
      "Accuracy: 1.0\n"
     ]
    }
   ],
   "source": [
    "from sklearn.datasets import load_iris\n",
    "from sklearn.model_selection import train_test_split\n",
    "from sklearn.ensemble import VotingClassifier\n",
    "from sklearn.tree import DecisionTreeClassifier\n",
    "from sklearn.linear_model import LogisticRegression\n",
    "from sklearn.svm import SVC\n",
    "from sklearn.metrics import accuracy_score\n",
    "\n",
    "# Load dataset\n",
    "data = load_iris()\n",
    "X = data.data\n",
    "y = data.target \n",
    "\n",
    "# Split dataset\n",
    "X_train, X_test, y_train, y_test = train_test_split(X, y, test_size=0.3, random_state=42)\n",
    "\n",
    "# Define base models\n",
    "model1 = DecisionTreeClassifier()\n",
    "model2 = LogisticRegression(max_iter=1000)\n",
    "model3 = SVC(probability=True)\n",
    "\n",
    "# Create a Voting Classifier\n",
    "voting_clf = VotingClassifier(estimators=[\n",
    "    ('dt', model1),\n",
    "    ('lr', model2),\n",
    "    ('svc', model3)\n",
    "], voting='soft')\n",
    "\n",
    "# Train model\n",
    "voting_clf.fit(X_train, y_train)\n",
    "\n",
    "# Predict\n",
    "y_pred = voting_clf.predict(X_test)\n",
    "\n",
    "# Evaluate\n",
    "print(\"Accuracy:\", accuracy_score(y_test, y_pred))\n"
   ]
  },
  {
   "cell_type": "markdown",
   "id": "3871fb35",
   "metadata": {},
   "source": [
    "## Custom Bagging Regressor with Multiple Algorithms"
   ]
  },
  {
   "cell_type": "code",
   "execution_count": 4,
   "id": "782a209e",
   "metadata": {},
   "outputs": [
    {
     "name": "stdout",
     "output_type": "stream",
     "text": [
      "MSE: 0.4882859624408465\n"
     ]
    }
   ],
   "source": [
    "from sklearn.datasets import fetch_california_housing\n",
    "from sklearn.model_selection import train_test_split\n",
    "from sklearn.ensemble import VotingRegressor\n",
    "from sklearn.linear_model import LinearRegression\n",
    "from sklearn.svm import SVR\n",
    "from sklearn.tree import DecisionTreeRegressor\n",
    "from sklearn.metrics import mean_squared_error\n",
    "\n",
    "# Load dataset\n",
    "data = fetch_california_housing()\n",
    "X = data.data\n",
    "y = data.target \n",
    "\n",
    "# Split dataset\n",
    "X_train, X_test, y_train, y_test = train_test_split(X, y, test_size=0.3, random_state=42)\n",
    "\n",
    "# Define base models\n",
    "model1 = DecisionTreeRegressor()\n",
    "model2 = LinearRegression()\n",
    "model3 = SVR()\n",
    "\n",
    "# Create a Voting Regressor\n",
    "voting_reg = VotingRegressor(estimators=[\n",
    "    ('dt', model1),\n",
    "    ('lr', model2),\n",
    "    ('svr', model3)\n",
    "])\n",
    "\n",
    "# Train model\n",
    "voting_reg.fit(X_train, y_train)\n",
    "\n",
    "# Predict\n",
    "y_pred = voting_reg.predict(X_test)\n",
    "\n",
    "# Evaluate\n",
    "print(\"MSE:\", mean_squared_error(y_test, y_pred))\n"
   ]
  },
  {
   "cell_type": "markdown",
   "id": "2b7cb3cf",
   "metadata": {},
   "source": [
    "## Use Hyperparameter Tuning For Our Wish\n",
    "\n",
    "###  Hyperparameter Tuning\n",
    "\n",
    "Use `GridSearchCV` to tune hyperparameters for both classifiers and regressors.\n",
    "\n",
    "#### For Classification\n",
    "\n",
    "```python\n",
    "from sklearn.model_selection import GridSearchCV\n",
    "\n",
    "# Define parameter grid\n",
    "param_grid = {\n",
    "    'n_estimators': [50, 100],\n",
    "    'max_samples': [0.8, 1.0]\n",
    "}\n",
    "\n",
    "# Create GridSearchCV\n",
    "grid_search = GridSearchCV(BaggingClassifier(base_model), param_grid, cv=5)\n",
    "\n",
    "# Train model\n",
    "grid_search.fit(X_train, y_train)\n",
    "\n",
    "# Best parameters and score\n",
    "print(\"Best Parameters:\", grid_search.best_params_)\n",
    "print(\"Best Score:\", grid_search.best_score_)\n",
    "```\n",
    "\n",
    "#### For Regression\n",
    "\n",
    "```python\n",
    "from sklearn.model_selection import GridSearchCV\n",
    "\n",
    "# Define parameter grid\n",
    "param_grid = {\n",
    "    'n_estimators': [50, 100],\n",
    "    'max_samples': [0.8, 1.0]\n",
    "}\n",
    "\n",
    "# Create GridSearchCV\n",
    "grid_search = GridSearchCV(BaggingRegressor(base_model), param_grid, cv=5)\n",
    "\n",
    "# Train model\n",
    "grid_search.fit(X_train, y_train)\n",
    "\n",
    "# Best parameters and score\n",
    "print(\"Best Parameters:\", grid_search.best_params_)\n",
    "print(\"Best Score:\", grid_search.best_score_)\n",
    "```"
   ]
  },
  {
   "cell_type": "markdown",
   "id": "97642ea4",
   "metadata": {},
   "source": [
    "#### Prepared By,\n",
    "Ahamed Basith"
   ]
  },
  {
   "cell_type": "code",
   "execution_count": null,
   "id": "64a70ce0",
   "metadata": {},
   "outputs": [],
   "source": []
  }
 ],
 "metadata": {
  "kernelspec": {
   "display_name": "Python 3 (ipykernel)",
   "language": "python",
   "name": "python3"
  },
  "language_info": {
   "codemirror_mode": {
    "name": "ipython",
    "version": 3
   },
   "file_extension": ".py",
   "mimetype": "text/x-python",
   "name": "python",
   "nbconvert_exporter": "python",
   "pygments_lexer": "ipython3",
   "version": "3.11.5"
  }
 },
 "nbformat": 4,
 "nbformat_minor": 5
}
