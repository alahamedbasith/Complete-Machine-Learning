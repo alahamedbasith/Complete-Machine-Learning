{
 "cells": [
  {
   "cell_type": "markdown",
   "id": "c00b1319",
   "metadata": {},
   "source": [
    "# Decision Tree\n",
    "## Decision Tree Visualization"
   ]
  },
  {
   "cell_type": "code",
   "execution_count": 1,
   "id": "55405e58",
   "metadata": {},
   "outputs": [],
   "source": [
    "import pandas as pd\n",
    "import matplotlib.pyplot as plt\n",
    "%matplotlib inline"
   ]
  },
  {
   "cell_type": "code",
   "execution_count": 2,
   "id": "88cb2d94",
   "metadata": {},
   "outputs": [],
   "source": [
    "from sklearn.datasets import load_iris\n",
    "from sklearn.tree import DecisionTreeClassifier"
   ]
  },
  {
   "cell_type": "code",
   "execution_count": 3,
   "id": "601bba2c",
   "metadata": {},
   "outputs": [],
   "source": [
    "data = load_iris()"
   ]
  },
  {
   "cell_type": "code",
   "execution_count": 4,
   "id": "b4bb2808",
   "metadata": {},
   "outputs": [
    {
     "data": {
      "text/html": [
       "<style>#sk-container-id-1 {color: black;}#sk-container-id-1 pre{padding: 0;}#sk-container-id-1 div.sk-toggleable {background-color: white;}#sk-container-id-1 label.sk-toggleable__label {cursor: pointer;display: block;width: 100%;margin-bottom: 0;padding: 0.3em;box-sizing: border-box;text-align: center;}#sk-container-id-1 label.sk-toggleable__label-arrow:before {content: \"▸\";float: left;margin-right: 0.25em;color: #696969;}#sk-container-id-1 label.sk-toggleable__label-arrow:hover:before {color: black;}#sk-container-id-1 div.sk-estimator:hover label.sk-toggleable__label-arrow:before {color: black;}#sk-container-id-1 div.sk-toggleable__content {max-height: 0;max-width: 0;overflow: hidden;text-align: left;background-color: #f0f8ff;}#sk-container-id-1 div.sk-toggleable__content pre {margin: 0.2em;color: black;border-radius: 0.25em;background-color: #f0f8ff;}#sk-container-id-1 input.sk-toggleable__control:checked~div.sk-toggleable__content {max-height: 200px;max-width: 100%;overflow: auto;}#sk-container-id-1 input.sk-toggleable__control:checked~label.sk-toggleable__label-arrow:before {content: \"▾\";}#sk-container-id-1 div.sk-estimator input.sk-toggleable__control:checked~label.sk-toggleable__label {background-color: #d4ebff;}#sk-container-id-1 div.sk-label input.sk-toggleable__control:checked~label.sk-toggleable__label {background-color: #d4ebff;}#sk-container-id-1 input.sk-hidden--visually {border: 0;clip: rect(1px 1px 1px 1px);clip: rect(1px, 1px, 1px, 1px);height: 1px;margin: -1px;overflow: hidden;padding: 0;position: absolute;width: 1px;}#sk-container-id-1 div.sk-estimator {font-family: monospace;background-color: #f0f8ff;border: 1px dotted black;border-radius: 0.25em;box-sizing: border-box;margin-bottom: 0.5em;}#sk-container-id-1 div.sk-estimator:hover {background-color: #d4ebff;}#sk-container-id-1 div.sk-parallel-item::after {content: \"\";width: 100%;border-bottom: 1px solid gray;flex-grow: 1;}#sk-container-id-1 div.sk-label:hover label.sk-toggleable__label {background-color: #d4ebff;}#sk-container-id-1 div.sk-serial::before {content: \"\";position: absolute;border-left: 1px solid gray;box-sizing: border-box;top: 0;bottom: 0;left: 50%;z-index: 0;}#sk-container-id-1 div.sk-serial {display: flex;flex-direction: column;align-items: center;background-color: white;padding-right: 0.2em;padding-left: 0.2em;position: relative;}#sk-container-id-1 div.sk-item {position: relative;z-index: 1;}#sk-container-id-1 div.sk-parallel {display: flex;align-items: stretch;justify-content: center;background-color: white;position: relative;}#sk-container-id-1 div.sk-item::before, #sk-container-id-1 div.sk-parallel-item::before {content: \"\";position: absolute;border-left: 1px solid gray;box-sizing: border-box;top: 0;bottom: 0;left: 50%;z-index: -1;}#sk-container-id-1 div.sk-parallel-item {display: flex;flex-direction: column;z-index: 1;position: relative;background-color: white;}#sk-container-id-1 div.sk-parallel-item:first-child::after {align-self: flex-end;width: 50%;}#sk-container-id-1 div.sk-parallel-item:last-child::after {align-self: flex-start;width: 50%;}#sk-container-id-1 div.sk-parallel-item:only-child::after {width: 0;}#sk-container-id-1 div.sk-dashed-wrapped {border: 1px dashed gray;margin: 0 0.4em 0.5em 0.4em;box-sizing: border-box;padding-bottom: 0.4em;background-color: white;}#sk-container-id-1 div.sk-label label {font-family: monospace;font-weight: bold;display: inline-block;line-height: 1.2em;}#sk-container-id-1 div.sk-label-container {text-align: center;}#sk-container-id-1 div.sk-container {/* jupyter's `normalize.less` sets `[hidden] { display: none; }` but bootstrap.min.css set `[hidden] { display: none !important; }` so we also need the `!important` here to be able to override the default hidden behavior on the sphinx rendered scikit-learn.org. See: https://github.com/scikit-learn/scikit-learn/issues/21755 */display: inline-block !important;position: relative;}#sk-container-id-1 div.sk-text-repr-fallback {display: none;}</style><div id=\"sk-container-id-1\" class=\"sk-top-container\"><div class=\"sk-text-repr-fallback\"><pre>DecisionTreeClassifier()</pre><b>In a Jupyter environment, please rerun this cell to show the HTML representation or trust the notebook. <br />On GitHub, the HTML representation is unable to render, please try loading this page with nbviewer.org.</b></div><div class=\"sk-container\" hidden><div class=\"sk-item\"><div class=\"sk-estimator sk-toggleable\"><input class=\"sk-toggleable__control sk-hidden--visually\" id=\"sk-estimator-id-1\" type=\"checkbox\" checked><label for=\"sk-estimator-id-1\" class=\"sk-toggleable__label sk-toggleable__label-arrow\">DecisionTreeClassifier</label><div class=\"sk-toggleable__content\"><pre>DecisionTreeClassifier()</pre></div></div></div></div></div>"
      ],
      "text/plain": [
       "DecisionTreeClassifier()"
      ]
     },
     "execution_count": 4,
     "metadata": {},
     "output_type": "execute_result"
    }
   ],
   "source": [
    "model = DecisionTreeClassifier()\n",
    "\n",
    "# Pass the data roughly \n",
    "model.fit(data.data,data.target)"
   ]
  },
  {
   "cell_type": "code",
   "execution_count": 5,
   "id": "c0217483",
   "metadata": {},
   "outputs": [],
   "source": [
    "from sklearn import tree"
   ]
  },
  {
   "cell_type": "code",
   "execution_count": 6,
   "id": "25e5214a",
   "metadata": {},
   "outputs": [
    {
     "data": {
      "text/plain": [
       "<Figure size 1500x1000 with 0 Axes>"
      ]
     },
     "execution_count": 6,
     "metadata": {},
     "output_type": "execute_result"
    },
    {
     "data": {
      "text/plain": [
       "<Figure size 1500x1000 with 0 Axes>"
      ]
     },
     "metadata": {},
     "output_type": "display_data"
    }
   ],
   "source": [
    "plt.figure(figsize=(15,10))"
   ]
  },
  {
   "cell_type": "code",
   "execution_count": 7,
   "id": "2b3f24a1",
   "metadata": {},
   "outputs": [
    {
     "data": {
      "text/plain": [
       "[Text(0.5, 0.9166666666666666, 'x[3] <= 0.8\\ngini = 0.667\\nsamples = 150\\nvalue = [50, 50, 50]'),\n",
       " Text(0.4230769230769231, 0.75, 'gini = 0.0\\nsamples = 50\\nvalue = [50, 0, 0]'),\n",
       " Text(0.5769230769230769, 0.75, 'x[3] <= 1.75\\ngini = 0.5\\nsamples = 100\\nvalue = [0, 50, 50]'),\n",
       " Text(0.3076923076923077, 0.5833333333333334, 'x[2] <= 4.95\\ngini = 0.168\\nsamples = 54\\nvalue = [0, 49, 5]'),\n",
       " Text(0.15384615384615385, 0.4166666666666667, 'x[3] <= 1.65\\ngini = 0.041\\nsamples = 48\\nvalue = [0, 47, 1]'),\n",
       " Text(0.07692307692307693, 0.25, 'gini = 0.0\\nsamples = 47\\nvalue = [0, 47, 0]'),\n",
       " Text(0.23076923076923078, 0.25, 'gini = 0.0\\nsamples = 1\\nvalue = [0, 0, 1]'),\n",
       " Text(0.46153846153846156, 0.4166666666666667, 'x[3] <= 1.55\\ngini = 0.444\\nsamples = 6\\nvalue = [0, 2, 4]'),\n",
       " Text(0.38461538461538464, 0.25, 'gini = 0.0\\nsamples = 3\\nvalue = [0, 0, 3]'),\n",
       " Text(0.5384615384615384, 0.25, 'x[0] <= 6.95\\ngini = 0.444\\nsamples = 3\\nvalue = [0, 2, 1]'),\n",
       " Text(0.46153846153846156, 0.08333333333333333, 'gini = 0.0\\nsamples = 2\\nvalue = [0, 2, 0]'),\n",
       " Text(0.6153846153846154, 0.08333333333333333, 'gini = 0.0\\nsamples = 1\\nvalue = [0, 0, 1]'),\n",
       " Text(0.8461538461538461, 0.5833333333333334, 'x[2] <= 4.85\\ngini = 0.043\\nsamples = 46\\nvalue = [0, 1, 45]'),\n",
       " Text(0.7692307692307693, 0.4166666666666667, 'x[1] <= 3.1\\ngini = 0.444\\nsamples = 3\\nvalue = [0, 1, 2]'),\n",
       " Text(0.6923076923076923, 0.25, 'gini = 0.0\\nsamples = 2\\nvalue = [0, 0, 2]'),\n",
       " Text(0.8461538461538461, 0.25, 'gini = 0.0\\nsamples = 1\\nvalue = [0, 1, 0]'),\n",
       " Text(0.9230769230769231, 0.4166666666666667, 'gini = 0.0\\nsamples = 43\\nvalue = [0, 0, 43]')]"
      ]
     },
     "execution_count": 7,
     "metadata": {},
     "output_type": "execute_result"
    },
    {
     "data": {
      "image/png": "[encoded data removed]",
      "text/plain": [
       "<Figure size 640x480 with 1 Axes>"
      ]
     },
     "metadata": {},
     "output_type": "display_data"
    }
   ],
   "source": [
    "tree.plot_tree(model,filled=True)"
   ]
  },
  {
   "cell_type": "markdown",
   "id": "0d07b0d8",
   "metadata": {},
   "source": [
    "## Decision Tree Regressor"
   ]
  },
  {
   "cell_type": "code",
   "execution_count": 8,
   "id": "b7becb6c",
   "metadata": {},
   "outputs": [],
   "source": [
    "from sklearn.tree import DecisionTreeRegressor\n",
    "from sklearn.model_selection import GridSearchCV, train_test_split\n",
    "from sklearn.metrics import mean_squared_error\n",
    "import numpy as np"
   ]
  },
  {
   "cell_type": "code",
   "execution_count": 9,
   "id": "2eaa8882",
   "metadata": {},
   "outputs": [],
   "source": [
    "# Set seed for reproducibility\n",
    "np.random.seed(40)\n",
    "\n",
    "# Example dataset\n",
    "X = np.random.rand(100, 5)\n",
    "y = np.random.rand(100)"
   ]
  },
  {
   "cell_type": "code",
   "execution_count": 10,
   "id": "aec57183",
   "metadata": {},
   "outputs": [
    {
     "data": {
      "text/plain": [
       "((100, 5), (100,))"
      ]
     },
     "execution_count": 10,
     "metadata": {},
     "output_type": "execute_result"
    }
   ],
   "source": [
    "X.shape,y.shape"
   ]
  },
  {
   "cell_type": "code",
   "execution_count": 11,
   "id": "dc4c9c53",
   "metadata": {},
   "outputs": [],
   "source": [
    "# Splitting the dataset\n",
    "X_train, X_test, y_train, y_test = train_test_split(X, y, test_size=0.2, random_state=42)"
   ]
  },
  {
   "cell_type": "markdown",
   "id": "23867230",
   "metadata": {},
   "source": [
    "### Parameters for Decision Tree\n",
    "\n",
    "#### 1. **`max_depth`**\n",
    "   - **Purpose**: Controls the maximum depth of the tree.\n",
    "   - **Values**:\n",
    "     - `None`: The tree will grow until all leaves are pure or until it contains fewer than `min_samples_split` samples.\n",
    "     - `10`, `20`, `30`: Limits the tree depth to the specified value, which helps prevent overfitting. Lower values result in shallower trees that may underfit the data, while higher values can capture more complexity.\n",
    "\n",
    "#### 2. **`min_samples_split`**\n",
    "   - **Purpose**: The minimum number of samples required to split an internal node.\n",
    "   - **Values**:\n",
    "     - `2`: The default value. Nodes with at least 2 samples will be split.\n",
    "     - `5`, `10`: Higher values prevent the model from learning overly specific patterns, reducing the chance of overfitting by requiring larger splits.\n",
    "\n",
    "#### 3. **`min_samples_leaf`**\n",
    "   - **Purpose**: The minimum number of samples required to be at a leaf node.\n",
    "   - **Values**:\n",
    "     - `1`: The default value. A leaf node can contain only one sample.\n",
    "     - `2`, `4`: Higher values can smooth the model and help avoid learning noise in the data by requiring leaves to have more samples.\n",
    "\n",
    "#### 4. **`max_features`**\n",
    "   - **Purpose**: The number of features to consider when looking for the best split.\n",
    "   - **Values**:\n",
    "     - `None`: Considers all features for splitting at each node.\n",
    "     - `'auto'`: Uses the square root of the total number of features. (For classification: `sqrt(n_features)`; for regression: `n_features`)\n",
    "     - `'sqrt'`: Also the square root of the total number of features, similar to `'auto'`.\n",
    "     - `'log2'`: Uses the logarithm (base 2) of the total number of features, which can create more diverse trees.\n",
    "\n",
    "### Summary:\n",
    "These parameters are tuned to control the complexity and generalization of the Decision Tree model. Lowering tree depth (`max_depth`), increasing the minimum samples required to split or be in a leaf (`min_samples_split`, `min_samples_leaf`), and limiting the features considered (`max_features`) are all ways to reduce overfitting and improve model performance on unseen data. Conversely, allowing more flexibility in these parameters can make the model more expressive, capturing more details of the training data but risking overfitting."
   ]
  },
  {
   "cell_type": "code",
   "execution_count": 12,
   "id": "4f1d68f7",
   "metadata": {},
   "outputs": [],
   "source": [
    "# Creating the model for understanding\n",
    "# regressor = DecisionTreeRegressor(max_depth=None,min_samples_split=20,min_samples_leaf=10)\n",
    "# regressor.fit(X_train,y_train)"
   ]
  },
  {
   "cell_type": "code",
   "execution_count": 13,
   "id": "9c65cd87",
   "metadata": {},
   "outputs": [],
   "source": [
    "# plt.figure(figsize=(15,10))\n",
    "# tree.plot_tree(regressor,filled=True)"
   ]
  },
  {
   "cell_type": "code",
   "execution_count": 14,
   "id": "7e08bf99",
   "metadata": {},
   "outputs": [],
   "source": [
    "# Creating the model\n",
    "regressor = DecisionTreeRegressor()"
   ]
  },
  {
   "cell_type": "code",
   "execution_count": 15,
   "id": "76a49a85",
   "metadata": {},
   "outputs": [],
   "source": [
    "# Defining the hyperparameters grid\n",
    "param_grid = {\n",
    "    'max_depth': [None, 10, 20, 30],\n",
    "    'min_samples_split': [2, 5, 10],\n",
    "    'min_samples_leaf': [1, 2, 4],\n",
    "    'max_features': [None, 'auto', 'sqrt', 'log2']\n",
    "}"
   ]
  },
  {
   "cell_type": "code",
   "execution_count": 16,
   "id": "e8977fcd",
   "metadata": {},
   "outputs": [
    {
     "name": "stderr",
     "output_type": "stream",
     "text": [
      "C:\\Anaconda\\Lib\\site-packages\\sklearn\\model_selection\\_validation.py:425: FitFailedWarning: \n",
      "180 fits failed out of a total of 720.\n",
      "The score on these train-test partitions for these parameters will be set to nan.\n",
      "If these failures are not expected, you can try to debug them by setting error_score='raise'.\n",
      "\n",
      "Below are more details about the failures:\n",
      "--------------------------------------------------------------------------------\n",
      "132 fits failed with the following error:\n",
      "Traceback (most recent call last):\n",
      "  File \"C:\\Anaconda\\Lib\\site-packages\\sklearn\\model_selection\\_validation.py\", line 732, in _fit_and_score\n",
      "    estimator.fit(X_train, y_train, **fit_params)\n",
      "  File \"C:\\Anaconda\\Lib\\site-packages\\sklearn\\base.py\", line 1144, in wrapper\n",
      "    estimator._validate_params()\n",
      "  File \"C:\\Anaconda\\Lib\\site-packages\\sklearn\\base.py\", line 637, in _validate_params\n",
      "    validate_parameter_constraints(\n",
      "  File \"C:\\Anaconda\\Lib\\site-packages\\sklearn\\utils\\_param_validation.py\", line 95, in validate_parameter_constraints\n",
      "    raise InvalidParameterError(\n",
      "sklearn.utils._param_validation.InvalidParameterError: The 'max_features' parameter of DecisionTreeRegressor must be an int in the range [1, inf), a float in the range (0.0, 1.0], a str among {'sqrt', 'log2'} or None. Got 'auto' instead.\n",
      "\n",
      "--------------------------------------------------------------------------------\n",
      "48 fits failed with the following error:\n",
      "Traceback (most recent call last):\n",
      "  File \"C:\\Anaconda\\Lib\\site-packages\\sklearn\\model_selection\\_validation.py\", line 732, in _fit_and_score\n",
      "    estimator.fit(X_train, y_train, **fit_params)\n",
      "  File \"C:\\Anaconda\\Lib\\site-packages\\sklearn\\base.py\", line 1144, in wrapper\n",
      "    estimator._validate_params()\n",
      "  File \"C:\\Anaconda\\Lib\\site-packages\\sklearn\\base.py\", line 637, in _validate_params\n",
      "    validate_parameter_constraints(\n",
      "  File \"C:\\Anaconda\\Lib\\site-packages\\sklearn\\utils\\_param_validation.py\", line 95, in validate_parameter_constraints\n",
      "    raise InvalidParameterError(\n",
      "sklearn.utils._param_validation.InvalidParameterError: The 'max_features' parameter of DecisionTreeRegressor must be an int in the range [1, inf), a float in the range (0.0, 1.0], a str among {'log2', 'sqrt'} or None. Got 'auto' instead.\n",
      "\n",
      "  warnings.warn(some_fits_failed_message, FitFailedWarning)\n",
      "C:\\Anaconda\\Lib\\site-packages\\sklearn\\model_selection\\_search.py:976: UserWarning: One or more of the test scores are non-finite: [-0.20432367 -0.18880128 -0.17955443 -0.17449419 -0.17080468 -0.1722673\n",
      " -0.1487895  -0.1487895  -0.14724509         nan         nan         nan\n",
      "         nan         nan         nan         nan         nan         nan\n",
      " -0.21389884 -0.19193283 -0.19398691 -0.21596444 -0.21544818 -0.16892178\n",
      " -0.18173948 -0.16699777 -0.16152219 -0.19470851 -0.1978688  -0.17662673\n",
      " -0.18229295 -0.16206617 -0.17620047 -0.17262677 -0.18665249 -0.17806039\n",
      " -0.1907873  -0.21347688 -0.17727935 -0.17177491 -0.1779144  -0.17466322\n",
      " -0.1487895  -0.1487895  -0.14724509         nan         nan         nan\n",
      "         nan         nan         nan         nan         nan         nan\n",
      " -0.21585245 -0.16499373 -0.16632741 -0.16793642 -0.19242851 -0.16806161\n",
      " -0.15631968 -0.19315936 -0.18214644 -0.20041276 -0.19214647 -0.16143826\n",
      " -0.18709603 -0.18849392 -0.15457272 -0.15417038 -0.15312961 -0.18016215\n",
      " -0.19192242 -0.2067011  -0.17955443 -0.16905388 -0.17374554 -0.1722673\n",
      " -0.1487895  -0.1487895  -0.14724509         nan         nan         nan\n",
      "         nan         nan         nan         nan         nan         nan\n",
      " -0.17766959 -0.20514095 -0.17502243 -0.1983201  -0.20400467 -0.1966376\n",
      " -0.17689107 -0.18274215 -0.17621023 -0.18909472 -0.17111823 -0.19788153\n",
      " -0.2108363  -0.17277737 -0.20430981 -0.18418454 -0.17509665 -0.15337547\n",
      " -0.21642551 -0.18834586 -0.17955443 -0.17517435 -0.17548866 -0.1722673\n",
      " -0.1487895  -0.1487895  -0.14724509         nan         nan         nan\n",
      "         nan         nan         nan         nan         nan         nan\n",
      " -0.21780864 -0.19938309 -0.18651493 -0.16800107 -0.19294832 -0.17248626\n",
      " -0.1479672  -0.16288293 -0.1658402  -0.2013359  -0.18272947 -0.16670313\n",
      " -0.17794397 -0.17352531 -0.15945259 -0.15756321 -0.15803716 -0.16321312]\n",
      "  warnings.warn(\n"
     ]
    },
    {
     "data": {
      "text/html": [
       "<style>#sk-container-id-2 {color: black;}#sk-container-id-2 pre{padding: 0;}#sk-container-id-2 div.sk-toggleable {background-color: white;}#sk-container-id-2 label.sk-toggleable__label {cursor: pointer;display: block;width: 100%;margin-bottom: 0;padding: 0.3em;box-sizing: border-box;text-align: center;}#sk-container-id-2 label.sk-toggleable__label-arrow:before {content: \"▸\";float: left;margin-right: 0.25em;color: #696969;}#sk-container-id-2 label.sk-toggleable__label-arrow:hover:before {color: black;}#sk-container-id-2 div.sk-estimator:hover label.sk-toggleable__label-arrow:before {color: black;}#sk-container-id-2 div.sk-toggleable__content {max-height: 0;max-width: 0;overflow: hidden;text-align: left;background-color: #f0f8ff;}#sk-container-id-2 div.sk-toggleable__content pre {margin: 0.2em;color: black;border-radius: 0.25em;background-color: #f0f8ff;}#sk-container-id-2 input.sk-toggleable__control:checked~div.sk-toggleable__content {max-height: 200px;max-width: 100%;overflow: auto;}#sk-container-id-2 input.sk-toggleable__control:checked~label.sk-toggleable__label-arrow:before {content: \"▾\";}#sk-container-id-2 div.sk-estimator input.sk-toggleable__control:checked~label.sk-toggleable__label {background-color: #d4ebff;}#sk-container-id-2 div.sk-label input.sk-toggleable__control:checked~label.sk-toggleable__label {background-color: #d4ebff;}#sk-container-id-2 input.sk-hidden--visually {border: 0;clip: rect(1px 1px 1px 1px);clip: rect(1px, 1px, 1px, 1px);height: 1px;margin: -1px;overflow: hidden;padding: 0;position: absolute;width: 1px;}#sk-container-id-2 div.sk-estimator {font-family: monospace;background-color: #f0f8ff;border: 1px dotted black;border-radius: 0.25em;box-sizing: border-box;margin-bottom: 0.5em;}#sk-container-id-2 div.sk-estimator:hover {background-color: #d4ebff;}#sk-container-id-2 div.sk-parallel-item::after {content: \"\";width: 100%;border-bottom: 1px solid gray;flex-grow: 1;}#sk-container-id-2 div.sk-label:hover label.sk-toggleable__label {background-color: #d4ebff;}#sk-container-id-2 div.sk-serial::before {content: \"\";position: absolute;border-left: 1px solid gray;box-sizing: border-box;top: 0;bottom: 0;left: 50%;z-index: 0;}#sk-container-id-2 div.sk-serial {display: flex;flex-direction: column;align-items: center;background-color: white;padding-right: 0.2em;padding-left: 0.2em;position: relative;}#sk-container-id-2 div.sk-item {position: relative;z-index: 1;}#sk-container-id-2 div.sk-parallel {display: flex;align-items: stretch;justify-content: center;background-color: white;position: relative;}#sk-container-id-2 div.sk-item::before, #sk-container-id-2 div.sk-parallel-item::before {content: \"\";position: absolute;border-left: 1px solid gray;box-sizing: border-box;top: 0;bottom: 0;left: 50%;z-index: -1;}#sk-container-id-2 div.sk-parallel-item {display: flex;flex-direction: column;z-index: 1;position: relative;background-color: white;}#sk-container-id-2 div.sk-parallel-item:first-child::after {align-self: flex-end;width: 50%;}#sk-container-id-2 div.sk-parallel-item:last-child::after {align-self: flex-start;width: 50%;}#sk-container-id-2 div.sk-parallel-item:only-child::after {width: 0;}#sk-container-id-2 div.sk-dashed-wrapped {border: 1px dashed gray;margin: 0 0.4em 0.5em 0.4em;box-sizing: border-box;padding-bottom: 0.4em;background-color: white;}#sk-container-id-2 div.sk-label label {font-family: monospace;font-weight: bold;display: inline-block;line-height: 1.2em;}#sk-container-id-2 div.sk-label-container {text-align: center;}#sk-container-id-2 div.sk-container {/* jupyter's `normalize.less` sets `[hidden] { display: none; }` but bootstrap.min.css set `[hidden] { display: none !important; }` so we also need the `!important` here to be able to override the default hidden behavior on the sphinx rendered scikit-learn.org. See: https://github.com/scikit-learn/scikit-learn/issues/21755 */display: inline-block !important;position: relative;}#sk-container-id-2 div.sk-text-repr-fallback {display: none;}</style><div id=\"sk-container-id-2\" class=\"sk-top-container\"><div class=\"sk-text-repr-fallback\"><pre>GridSearchCV(cv=5, estimator=DecisionTreeRegressor(), n_jobs=-1,\n",
       "             param_grid={&#x27;max_depth&#x27;: [None, 10, 20, 30],\n",
       "                         &#x27;max_features&#x27;: [None, &#x27;auto&#x27;, &#x27;sqrt&#x27;, &#x27;log2&#x27;],\n",
       "                         &#x27;min_samples_leaf&#x27;: [1, 2, 4],\n",
       "                         &#x27;min_samples_split&#x27;: [2, 5, 10]},\n",
       "             scoring=&#x27;neg_mean_squared_error&#x27;)</pre><b>In a Jupyter environment, please rerun this cell to show the HTML representation or trust the notebook. <br />On GitHub, the HTML representation is unable to render, please try loading this page with nbviewer.org.</b></div><div class=\"sk-container\" hidden><div class=\"sk-item sk-dashed-wrapped\"><div class=\"sk-label-container\"><div class=\"sk-label sk-toggleable\"><input class=\"sk-toggleable__control sk-hidden--visually\" id=\"sk-estimator-id-2\" type=\"checkbox\" ><label for=\"sk-estimator-id-2\" class=\"sk-toggleable__label sk-toggleable__label-arrow\">GridSearchCV</label><div class=\"sk-toggleable__content\"><pre>GridSearchCV(cv=5, estimator=DecisionTreeRegressor(), n_jobs=-1,\n",
       "             param_grid={&#x27;max_depth&#x27;: [None, 10, 20, 30],\n",
       "                         &#x27;max_features&#x27;: [None, &#x27;auto&#x27;, &#x27;sqrt&#x27;, &#x27;log2&#x27;],\n",
       "                         &#x27;min_samples_leaf&#x27;: [1, 2, 4],\n",
       "                         &#x27;min_samples_split&#x27;: [2, 5, 10]},\n",
       "             scoring=&#x27;neg_mean_squared_error&#x27;)</pre></div></div></div><div class=\"sk-parallel\"><div class=\"sk-parallel-item\"><div class=\"sk-item\"><div class=\"sk-label-container\"><div class=\"sk-label sk-toggleable\"><input class=\"sk-toggleable__control sk-hidden--visually\" id=\"sk-estimator-id-3\" type=\"checkbox\" ><label for=\"sk-estimator-id-3\" class=\"sk-toggleable__label sk-toggleable__label-arrow\">estimator: DecisionTreeRegressor</label><div class=\"sk-toggleable__content\"><pre>DecisionTreeRegressor()</pre></div></div></div><div class=\"sk-serial\"><div class=\"sk-item\"><div class=\"sk-estimator sk-toggleable\"><input class=\"sk-toggleable__control sk-hidden--visually\" id=\"sk-estimator-id-4\" type=\"checkbox\" ><label for=\"sk-estimator-id-4\" class=\"sk-toggleable__label sk-toggleable__label-arrow\">DecisionTreeRegressor</label><div class=\"sk-toggleable__content\"><pre>DecisionTreeRegressor()</pre></div></div></div></div></div></div></div></div></div></div>"
      ],
      "text/plain": [
       "GridSearchCV(cv=5, estimator=DecisionTreeRegressor(), n_jobs=-1,\n",
       "             param_grid={'max_depth': [None, 10, 20, 30],\n",
       "                         'max_features': [None, 'auto', 'sqrt', 'log2'],\n",
       "                         'min_samples_leaf': [1, 2, 4],\n",
       "                         'min_samples_split': [2, 5, 10]},\n",
       "             scoring='neg_mean_squared_error')"
      ]
     },
     "execution_count": 16,
     "metadata": {},
     "output_type": "execute_result"
    }
   ],
   "source": [
    "# Performing GridSearchCV\n",
    "grid_search = GridSearchCV(estimator=regressor, param_grid=param_grid, cv=5, n_jobs=-1, scoring='neg_mean_squared_error')\n",
    "grid_search.fit(X_train, y_train)"
   ]
  },
  {
   "cell_type": "code",
   "execution_count": 17,
   "id": "37cdb56b",
   "metadata": {},
   "outputs": [
    {
     "name": "stdout",
     "output_type": "stream",
     "text": [
      "DecisionTreeRegressor(min_samples_leaf=4, min_samples_split=10)\n",
      "Best Parameters: {'max_depth': None, 'max_features': None, 'min_samples_leaf': 4, 'min_samples_split': 10}\n"
     ]
    }
   ],
   "source": [
    "# Best model and its hyperparameters\n",
    "best_regressor = grid_search.best_estimator_\n",
    "print(best_regressor)\n",
    "print(\"Best Parameters:\", grid_search.best_params_)"
   ]
  },
  {
   "cell_type": "code",
   "execution_count": 18,
   "id": "648daeac",
   "metadata": {},
   "outputs": [],
   "source": [
    "# Making predictions\n",
    "y_pred = grid_search.predict(X_test)"
   ]
  },
  {
   "cell_type": "code",
   "execution_count": 19,
   "id": "2aabcc88",
   "metadata": {},
   "outputs": [
    {
     "name": "stdout",
     "output_type": "stream",
     "text": [
      "Mean Squared Error: 0.10913998505413136\n"
     ]
    }
   ],
   "source": [
    "# Evaluating the model\n",
    "mse = mean_squared_error(y_test, y_pred)\n",
    "print(\"Mean Squared Error:\", mse)"
   ]
  },
  {
   "cell_type": "markdown",
   "id": "71a14c1a",
   "metadata": {},
   "source": [
    "### This also Applicable:\n",
    "#### 1. **First Code Snippet**\n",
    "\n",
    "```python\n",
    "# Best model and its hyperparameters\n",
    "best_regressor = grid_search.best_estimator_\n",
    "print(\"Best Parameters:\", grid_search.best_params_)\n",
    "\n",
    "# Making predictions\n",
    "y_pred = best_regressor.predict(X_test)\n",
    "```\n",
    "\n",
    "- **Explanation**:\n",
    "  - After performing `GridSearchCV`, you access the best model found (`best_estimator_`) and explicitly store it in the `best_regressor` variable.\n",
    "  - You then use this best model to make predictions.\n",
    "  - This approach is more explicit and provides clarity by making it clear that you're using the best model for predictions.\n",
    "\n",
    "#### 2. **Second Code Snippet**\n",
    "\n",
    "```python\n",
    "# Performing GridSearchCV\n",
    "grid_search = GridSearchCV(estimator=regressor, param_grid=param_grid, cv=5, n_jobs=-1, scoring='neg_mean_squared_error')\n",
    "grid_search.fit(X_train, y_train)\n",
    "\n",
    "# Making predictions\n",
    "y_pred = grid_search.predict(X_test)\n",
    "```\n",
    "\n",
    "- **Explanation**:\n",
    "  - Here, you're directly using the `GridSearchCV` object (`grid_search`) to make predictions with the best model.\n",
    "  - The `grid_search.predict(X_test)` method internally uses the best model found during the grid search.\n",
    "  - This approach is more concise since it skips the step of explicitly extracting the best model, but it may be less clear to someone reading the code.\n",
    "\n",
    "### Which One to Use?\n",
    "\n",
    "- **Explicit Approach (First Snippet)**: If you prefer clarity and want to explicitly see and store the best model found, the first approach is better. It’s also useful if you need to reuse the best model in other parts of your code.\n",
    "  \n",
    "- **Concise Approach (Second Snippet)**: If you prefer brevity and don’t need to store the best model separately, the second approach is more concise and can be used directly.\n",
    "\n",
    "In summary, both are correct, but the first approach is generally preferred for clarity and explicitness, especially in more complex projects where the best model might be reused or further analyzed."
   ]
  },
  {
   "cell_type": "markdown",
   "id": "5c0bbbec",
   "metadata": {},
   "source": [
    "## Decision Tree Classifier"
   ]
  },
  {
   "cell_type": "code",
   "execution_count": 20,
   "id": "d4b59861",
   "metadata": {},
   "outputs": [],
   "source": [
    "from sklearn.tree import DecisionTreeClassifier\n",
    "from sklearn.model_selection import GridSearchCV, train_test_split\n",
    "from sklearn.metrics import accuracy_score\n",
    "import numpy as np\n",
    "\n",
    "# Set seed for reproducibility\n",
    "np.random.seed(42)\n",
    "\n",
    "# Example dataset\n",
    "X = np.random.rand(100, 5)\n",
    "y = np.random.randint(0, 2, 100)"
   ]
  },
  {
   "cell_type": "code",
   "execution_count": 21,
   "id": "44a89983",
   "metadata": {},
   "outputs": [
    {
     "data": {
      "text/plain": [
       "(array([[0.37454012, 0.95071431, 0.73199394, 0.59865848, 0.15601864],\n",
       "        [0.15599452, 0.05808361, 0.86617615, 0.60111501, 0.70807258],\n",
       "        [0.02058449, 0.96990985, 0.83244264, 0.21233911, 0.18182497],\n",
       "        [0.18340451, 0.30424224, 0.52475643, 0.43194502, 0.29122914],\n",
       "        [0.61185289, 0.13949386, 0.29214465, 0.36636184, 0.45606998],\n",
       "        [0.78517596, 0.19967378, 0.51423444, 0.59241457, 0.04645041],\n",
       "        [0.60754485, 0.17052412, 0.06505159, 0.94888554, 0.96563203],\n",
       "        [0.80839735, 0.30461377, 0.09767211, 0.68423303, 0.44015249],\n",
       "        [0.12203823, 0.49517691, 0.03438852, 0.9093204 , 0.25877998],\n",
       "        [0.66252228, 0.31171108, 0.52006802, 0.54671028, 0.18485446],\n",
       "        [0.96958463, 0.77513282, 0.93949894, 0.89482735, 0.59789998],\n",
       "        [0.92187424, 0.0884925 , 0.19598286, 0.04522729, 0.32533033],\n",
       "        [0.38867729, 0.27134903, 0.82873751, 0.35675333, 0.28093451],\n",
       "        [0.54269608, 0.14092422, 0.80219698, 0.07455064, 0.98688694],\n",
       "        [0.77224477, 0.19871568, 0.00552212, 0.81546143, 0.70685734],\n",
       "        [0.72900717, 0.77127035, 0.07404465, 0.35846573, 0.11586906],\n",
       "        [0.86310343, 0.62329813, 0.33089802, 0.06355835, 0.31098232],\n",
       "        [0.32518332, 0.72960618, 0.63755747, 0.88721274, 0.47221493],\n",
       "        [0.11959425, 0.71324479, 0.76078505, 0.5612772 , 0.77096718],\n",
       "        [0.4937956 , 0.52273283, 0.42754102, 0.02541913, 0.10789143],\n",
       "        [0.03142919, 0.63641041, 0.31435598, 0.50857069, 0.90756647],\n",
       "        [0.24929223, 0.41038292, 0.75555114, 0.22879817, 0.07697991],\n",
       "        [0.28975145, 0.16122129, 0.92969765, 0.80812038, 0.63340376],\n",
       "        [0.87146059, 0.80367208, 0.18657006, 0.892559  , 0.53934224],\n",
       "        [0.80744016, 0.8960913 , 0.31800347, 0.11005192, 0.22793516],\n",
       "        [0.42710779, 0.81801477, 0.86073058, 0.00695213, 0.5107473 ],\n",
       "        [0.417411  , 0.22210781, 0.11986537, 0.33761517, 0.9429097 ],\n",
       "        [0.32320293, 0.51879062, 0.70301896, 0.3636296 , 0.97178208],\n",
       "        [0.96244729, 0.2517823 , 0.49724851, 0.30087831, 0.28484049],\n",
       "        [0.03688695, 0.60956433, 0.50267902, 0.05147875, 0.27864646],\n",
       "        [0.90826589, 0.23956189, 0.14489487, 0.48945276, 0.98565045],\n",
       "        [0.24205527, 0.67213555, 0.76161962, 0.23763754, 0.72821635],\n",
       "        [0.36778313, 0.63230583, 0.63352971, 0.53577468, 0.09028977],\n",
       "        [0.8353025 , 0.32078006, 0.18651851, 0.04077514, 0.59089294],\n",
       "        [0.67756436, 0.01658783, 0.51209306, 0.22649578, 0.64517279],\n",
       "        [0.17436643, 0.69093774, 0.38673535, 0.93672999, 0.13752094],\n",
       "        [0.34106635, 0.11347352, 0.92469362, 0.87733935, 0.25794163],\n",
       "        [0.65998405, 0.8172222 , 0.55520081, 0.52965058, 0.24185229],\n",
       "        [0.09310277, 0.89721576, 0.90041806, 0.63310146, 0.33902979],\n",
       "        [0.34920957, 0.72595568, 0.89711026, 0.88708642, 0.77987555],\n",
       "        [0.64203165, 0.08413996, 0.16162871, 0.89855419, 0.60642906],\n",
       "        [0.00919705, 0.10147154, 0.66350177, 0.00506158, 0.16080805],\n",
       "        [0.54873379, 0.6918952 , 0.65196126, 0.22426931, 0.71217922],\n",
       "        [0.23724909, 0.3253997 , 0.74649141, 0.6496329 , 0.84922341],\n",
       "        [0.65761289, 0.5683086 , 0.09367477, 0.3677158 , 0.26520237],\n",
       "        [0.24398964, 0.97301055, 0.39309772, 0.89204656, 0.63113863],\n",
       "        [0.7948113 , 0.50263709, 0.57690388, 0.49251769, 0.19524299],\n",
       "        [0.72245212, 0.28077236, 0.02431597, 0.6454723 , 0.17711068],\n",
       "        [0.94045858, 0.95392858, 0.91486439, 0.3701587 , 0.01545662],\n",
       "        [0.92831856, 0.42818415, 0.96665482, 0.96361998, 0.85300946],\n",
       "        [0.29444889, 0.38509773, 0.85113667, 0.31692201, 0.16949275],\n",
       "        [0.55680126, 0.93615477, 0.6960298 , 0.57006117, 0.09717649],\n",
       "        [0.61500723, 0.99005385, 0.14008402, 0.51832965, 0.87737307],\n",
       "        [0.74076862, 0.69701574, 0.70248408, 0.35949115, 0.29359184],\n",
       "        [0.80936116, 0.81011339, 0.86707232, 0.91324055, 0.5113424 ],\n",
       "        [0.50151629, 0.79829518, 0.64996393, 0.70196688, 0.79579267],\n",
       "        [0.89000534, 0.33799516, 0.37558295, 0.09398194, 0.57828014],\n",
       "        [0.03594227, 0.46559802, 0.54264463, 0.28654125, 0.59083326],\n",
       "        [0.03050025, 0.03734819, 0.82260056, 0.36019064, 0.12706051],\n",
       "        [0.52224326, 0.76999355, 0.21582103, 0.62289048, 0.08534746],\n",
       "        [0.05168172, 0.53135463, 0.54063512, 0.6374299 , 0.72609133],\n",
       "        [0.97585208, 0.51630035, 0.32295647, 0.79518619, 0.27083225],\n",
       "        [0.43897142, 0.07845638, 0.02535074, 0.96264841, 0.83598012],\n",
       "        [0.69597421, 0.40895294, 0.17329432, 0.15643704, 0.2502429 ],\n",
       "        [0.54922666, 0.71459592, 0.66019738, 0.2799339 , 0.95486528],\n",
       "        [0.73789692, 0.55435405, 0.61172075, 0.41960006, 0.24773099],\n",
       "        [0.35597268, 0.75784611, 0.01439349, 0.11607264, 0.04600264],\n",
       "        [0.0407288 , 0.85546058, 0.70365786, 0.47417383, 0.09783416],\n",
       "        [0.49161588, 0.47347177, 0.17320187, 0.43385165, 0.39850473],\n",
       "        [0.6158501 , 0.63509365, 0.04530401, 0.37461261, 0.62585992],\n",
       "        [0.50313626, 0.85648984, 0.65869363, 0.16293443, 0.07056875],\n",
       "        [0.64241928, 0.02651131, 0.58577558, 0.94023024, 0.57547418],\n",
       "        [0.38816993, 0.64328822, 0.45825289, 0.54561679, 0.94146481],\n",
       "        [0.38610264, 0.96119056, 0.90535064, 0.19579113, 0.0693613 ],\n",
       "        [0.100778  , 0.01822183, 0.09444296, 0.68300677, 0.07118865],\n",
       "        [0.31897563, 0.84487531, 0.02327194, 0.81446848, 0.28185477],\n",
       "        [0.11816483, 0.69673717, 0.62894285, 0.87747201, 0.73507104],\n",
       "        [0.80348093, 0.28203457, 0.17743954, 0.75061475, 0.80683474],\n",
       "        [0.99050514, 0.41261768, 0.37201809, 0.77641296, 0.34080354],\n",
       "        [0.93075733, 0.85841275, 0.42899403, 0.75087107, 0.75454287],\n",
       "        [0.10312387, 0.90255291, 0.50525237, 0.82645747, 0.3200496 ],\n",
       "        [0.89552323, 0.38920168, 0.01083765, 0.90538198, 0.09128668],\n",
       "        [0.31931364, 0.95006197, 0.95060715, 0.57343789, 0.63183721],\n",
       "        [0.44844552, 0.29321077, 0.32866455, 0.67251846, 0.75237453],\n",
       "        [0.79157904, 0.78961814, 0.0912061 , 0.4944203 , 0.05755876],\n",
       "        [0.54952888, 0.4415305 , 0.88770418, 0.35091501, 0.11706702],\n",
       "        [0.14299168, 0.76151063, 0.61821806, 0.10112268, 0.08410681],\n",
       "        [0.70096913, 0.07276301, 0.82186006, 0.70624223, 0.08134878],\n",
       "        [0.08483771, 0.98663958, 0.3742708 , 0.37064215, 0.81279957],\n",
       "        [0.94724858, 0.98600106, 0.75337819, 0.37625959, 0.08350072],\n",
       "        [0.77714692, 0.55840425, 0.42422201, 0.90635439, 0.11119748],\n",
       "        [0.4926251 , 0.01135364, 0.46866064, 0.05630328, 0.11881792],\n",
       "        [0.11752625, 0.6492103 , 0.74604488, 0.58336877, 0.96217255],\n",
       "        [0.37487058, 0.28571209, 0.86859913, 0.22359584, 0.96322254],\n",
       "        [0.01215447, 0.96987883, 0.04315991, 0.89114311, 0.52770111],\n",
       "        [0.9929648 , 0.07379656, 0.55385428, 0.96930254, 0.52309784],\n",
       "        [0.62939864, 0.69574869, 0.45454106, 0.62755808, 0.58431431],\n",
       "        [0.90115801, 0.04544638, 0.28096319, 0.95041148, 0.89026378],\n",
       "        [0.45565675, 0.6201326 , 0.27738118, 0.18812116, 0.4636984 ],\n",
       "        [0.35335223, 0.58365611, 0.07773464, 0.97439481, 0.98621074]]),\n",
       " array([1, 0, 0, 0, 0, 0, 1, 0, 1, 1, 0, 0, 1, 0, 0, 1, 1, 0, 1, 0, 0, 0,\n",
       "        1, 1, 1, 1, 1, 0, 0, 0, 0, 1, 0, 1, 0, 1, 1, 0, 0, 0, 0, 1, 0, 0,\n",
       "        1, 0, 0, 0, 0, 0, 1, 0, 0, 0, 0, 0, 1, 0, 1, 1, 0, 0, 0, 0, 1, 0,\n",
       "        0, 0, 0, 0, 0, 1, 1, 0, 0, 0, 1, 0, 1, 0, 0, 0, 0, 1, 1, 0, 0, 1,\n",
       "        1, 1, 1, 0, 1, 0, 1, 1, 1, 1, 1, 0]))"
      ]
     },
     "execution_count": 21,
     "metadata": {},
     "output_type": "execute_result"
    }
   ],
   "source": [
    "X,y"
   ]
  },
  {
   "cell_type": "code",
   "execution_count": 22,
   "id": "f6bcabcd",
   "metadata": {},
   "outputs": [],
   "source": [
    "# Splitting the dataset\n",
    "X_train, X_test, y_train, y_test = train_test_split(X, y, test_size=0.2, random_state=42)"
   ]
  },
  {
   "cell_type": "code",
   "execution_count": 23,
   "id": "3be5c173",
   "metadata": {},
   "outputs": [],
   "source": [
    "# Creating the model\n",
    "classifier = DecisionTreeClassifier()"
   ]
  },
  {
   "cell_type": "code",
   "execution_count": 24,
   "id": "d72fa054",
   "metadata": {},
   "outputs": [],
   "source": [
    "param_grid = {\n",
    "    'max_depth': [None, 10, 20, 30],\n",
    "    'min_samples_split': [2, 5, 10],\n",
    "    'min_samples_leaf': [1, 2, 4],\n",
    "    'max_features': [None, 'auto', 'sqrt', 'log2'],\n",
    "    'criterion': ['gini', 'entropy']\n",
    "}"
   ]
  },
  {
   "cell_type": "code",
   "execution_count": 25,
   "id": "fd05dbac",
   "metadata": {},
   "outputs": [
    {
     "name": "stderr",
     "output_type": "stream",
     "text": [
      "C:\\Anaconda\\Lib\\site-packages\\sklearn\\model_selection\\_validation.py:425: FitFailedWarning: \n",
      "360 fits failed out of a total of 1440.\n",
      "The score on these train-test partitions for these parameters will be set to nan.\n",
      "If these failures are not expected, you can try to debug them by setting error_score='raise'.\n",
      "\n",
      "Below are more details about the failures:\n",
      "--------------------------------------------------------------------------------\n",
      "279 fits failed with the following error:\n",
      "Traceback (most recent call last):\n",
      "  File \"C:\\Anaconda\\Lib\\site-packages\\sklearn\\model_selection\\_validation.py\", line 732, in _fit_and_score\n",
      "    estimator.fit(X_train, y_train, **fit_params)\n",
      "  File \"C:\\Anaconda\\Lib\\site-packages\\sklearn\\base.py\", line 1144, in wrapper\n",
      "    estimator._validate_params()\n",
      "  File \"C:\\Anaconda\\Lib\\site-packages\\sklearn\\base.py\", line 637, in _validate_params\n",
      "    validate_parameter_constraints(\n",
      "  File \"C:\\Anaconda\\Lib\\site-packages\\sklearn\\utils\\_param_validation.py\", line 95, in validate_parameter_constraints\n",
      "    raise InvalidParameterError(\n",
      "sklearn.utils._param_validation.InvalidParameterError: The 'max_features' parameter of DecisionTreeClassifier must be an int in the range [1, inf), a float in the range (0.0, 1.0], a str among {'sqrt', 'log2'} or None. Got 'auto' instead.\n",
      "\n",
      "--------------------------------------------------------------------------------\n",
      "81 fits failed with the following error:\n",
      "Traceback (most recent call last):\n",
      "  File \"C:\\Anaconda\\Lib\\site-packages\\sklearn\\model_selection\\_validation.py\", line 732, in _fit_and_score\n",
      "    estimator.fit(X_train, y_train, **fit_params)\n",
      "  File \"C:\\Anaconda\\Lib\\site-packages\\sklearn\\base.py\", line 1144, in wrapper\n",
      "    estimator._validate_params()\n",
      "  File \"C:\\Anaconda\\Lib\\site-packages\\sklearn\\base.py\", line 637, in _validate_params\n",
      "    validate_parameter_constraints(\n",
      "  File \"C:\\Anaconda\\Lib\\site-packages\\sklearn\\utils\\_param_validation.py\", line 95, in validate_parameter_constraints\n",
      "    raise InvalidParameterError(\n",
      "sklearn.utils._param_validation.InvalidParameterError: The 'max_features' parameter of DecisionTreeClassifier must be an int in the range [1, inf), a float in the range (0.0, 1.0], a str among {'log2', 'sqrt'} or None. Got 'auto' instead.\n",
      "\n",
      "  warnings.warn(some_fits_failed_message, FitFailedWarning)\n",
      "C:\\Anaconda\\Lib\\site-packages\\sklearn\\model_selection\\_search.py:976: UserWarning: One or more of the test scores are non-finite: [0.5    0.475  0.5125 0.4625 0.5    0.5125 0.5375 0.5125 0.5125    nan\n",
      "    nan    nan    nan    nan    nan    nan    nan    nan 0.4875 0.45\n",
      " 0.525  0.5875 0.4875 0.45   0.525  0.525  0.525  0.4875 0.475  0.475\n",
      " 0.5375 0.5125 0.55   0.55   0.4625 0.4375 0.5125 0.475  0.5    0.4875\n",
      " 0.4875 0.4875 0.5375 0.5125 0.5125    nan    nan    nan    nan    nan\n",
      "    nan    nan    nan    nan 0.5375 0.6    0.525  0.525  0.4625 0.525\n",
      " 0.5    0.525  0.5625 0.5375 0.55   0.5    0.5875 0.55   0.4875 0.475\n",
      " 0.475  0.625  0.55   0.4375 0.5125 0.475  0.4875 0.525  0.5125 0.55\n",
      " 0.5125    nan    nan    nan    nan    nan    nan    nan    nan    nan\n",
      " 0.45   0.475  0.4375 0.475  0.5625 0.5875 0.5    0.4    0.525  0.5125\n",
      " 0.5    0.5375 0.575  0.525  0.525  0.55   0.6125 0.5    0.4375 0.4875\n",
      " 0.5125 0.4625 0.5    0.5125 0.525  0.525  0.5375    nan    nan    nan\n",
      "    nan    nan    nan    nan    nan    nan 0.55   0.5125 0.5625 0.55\n",
      " 0.5125 0.4875 0.6375 0.5375 0.5375 0.5625 0.4875 0.475  0.5375 0.5\n",
      " 0.5    0.5    0.575  0.45   0.55   0.575  0.6125 0.55   0.575  0.525\n",
      " 0.5625 0.5625 0.5875    nan    nan    nan    nan    nan    nan    nan\n",
      "    nan    nan 0.55   0.5375 0.525  0.4625 0.5375 0.525  0.475  0.5\n",
      " 0.5    0.55   0.575  0.525  0.475  0.6    0.4875 0.525  0.5125 0.5125\n",
      " 0.6    0.5875 0.575  0.5125 0.6    0.55   0.55   0.575  0.5625    nan\n",
      "    nan    nan    nan    nan    nan    nan    nan    nan 0.525  0.525\n",
      " 0.4375 0.55   0.5    0.4625 0.5375 0.525  0.55   0.5625 0.5125 0.55\n",
      " 0.4875 0.575  0.5375 0.475  0.4625 0.55   0.5375 0.6    0.5375 0.55\n",
      " 0.5375 0.5875 0.5625 0.5875 0.5625    nan    nan    nan    nan    nan\n",
      "    nan    nan    nan    nan 0.5875 0.5375 0.575  0.5625 0.5    0.5625\n",
      " 0.55   0.4875 0.55   0.55   0.525  0.6    0.525  0.5    0.5    0.475\n",
      " 0.5375 0.5625 0.575  0.575  0.6125 0.5375 0.5375 0.55   0.5625 0.5625\n",
      " 0.5625    nan    nan    nan    nan    nan    nan    nan    nan    nan\n",
      " 0.5    0.5375 0.4875 0.4875 0.4875 0.5875 0.4625 0.5375 0.525  0.5\n",
      " 0.4875 0.4625 0.4625 0.5    0.5125 0.5125 0.5625 0.4875]\n",
      "  warnings.warn(\n"
     ]
    },
    {
     "data": {
      "text/html": [
       "<style>#sk-container-id-3 {color: black;}#sk-container-id-3 pre{padding: 0;}#sk-container-id-3 div.sk-toggleable {background-color: white;}#sk-container-id-3 label.sk-toggleable__label {cursor: pointer;display: block;width: 100%;margin-bottom: 0;padding: 0.3em;box-sizing: border-box;text-align: center;}#sk-container-id-3 label.sk-toggleable__label-arrow:before {content: \"▸\";float: left;margin-right: 0.25em;color: #696969;}#sk-container-id-3 label.sk-toggleable__label-arrow:hover:before {color: black;}#sk-container-id-3 div.sk-estimator:hover label.sk-toggleable__label-arrow:before {color: black;}#sk-container-id-3 div.sk-toggleable__content {max-height: 0;max-width: 0;overflow: hidden;text-align: left;background-color: #f0f8ff;}#sk-container-id-3 div.sk-toggleable__content pre {margin: 0.2em;color: black;border-radius: 0.25em;background-color: #f0f8ff;}#sk-container-id-3 input.sk-toggleable__control:checked~div.sk-toggleable__content {max-height: 200px;max-width: 100%;overflow: auto;}#sk-container-id-3 input.sk-toggleable__control:checked~label.sk-toggleable__label-arrow:before {content: \"▾\";}#sk-container-id-3 div.sk-estimator input.sk-toggleable__control:checked~label.sk-toggleable__label {background-color: #d4ebff;}#sk-container-id-3 div.sk-label input.sk-toggleable__control:checked~label.sk-toggleable__label {background-color: #d4ebff;}#sk-container-id-3 input.sk-hidden--visually {border: 0;clip: rect(1px 1px 1px 1px);clip: rect(1px, 1px, 1px, 1px);height: 1px;margin: -1px;overflow: hidden;padding: 0;position: absolute;width: 1px;}#sk-container-id-3 div.sk-estimator {font-family: monospace;background-color: #f0f8ff;border: 1px dotted black;border-radius: 0.25em;box-sizing: border-box;margin-bottom: 0.5em;}#sk-container-id-3 div.sk-estimator:hover {background-color: #d4ebff;}#sk-container-id-3 div.sk-parallel-item::after {content: \"\";width: 100%;border-bottom: 1px solid gray;flex-grow: 1;}#sk-container-id-3 div.sk-label:hover label.sk-toggleable__label {background-color: #d4ebff;}#sk-container-id-3 div.sk-serial::before {content: \"\";position: absolute;border-left: 1px solid gray;box-sizing: border-box;top: 0;bottom: 0;left: 50%;z-index: 0;}#sk-container-id-3 div.sk-serial {display: flex;flex-direction: column;align-items: center;background-color: white;padding-right: 0.2em;padding-left: 0.2em;position: relative;}#sk-container-id-3 div.sk-item {position: relative;z-index: 1;}#sk-container-id-3 div.sk-parallel {display: flex;align-items: stretch;justify-content: center;background-color: white;position: relative;}#sk-container-id-3 div.sk-item::before, #sk-container-id-3 div.sk-parallel-item::before {content: \"\";position: absolute;border-left: 1px solid gray;box-sizing: border-box;top: 0;bottom: 0;left: 50%;z-index: -1;}#sk-container-id-3 div.sk-parallel-item {display: flex;flex-direction: column;z-index: 1;position: relative;background-color: white;}#sk-container-id-3 div.sk-parallel-item:first-child::after {align-self: flex-end;width: 50%;}#sk-container-id-3 div.sk-parallel-item:last-child::after {align-self: flex-start;width: 50%;}#sk-container-id-3 div.sk-parallel-item:only-child::after {width: 0;}#sk-container-id-3 div.sk-dashed-wrapped {border: 1px dashed gray;margin: 0 0.4em 0.5em 0.4em;box-sizing: border-box;padding-bottom: 0.4em;background-color: white;}#sk-container-id-3 div.sk-label label {font-family: monospace;font-weight: bold;display: inline-block;line-height: 1.2em;}#sk-container-id-3 div.sk-label-container {text-align: center;}#sk-container-id-3 div.sk-container {/* jupyter's `normalize.less` sets `[hidden] { display: none; }` but bootstrap.min.css set `[hidden] { display: none !important; }` so we also need the `!important` here to be able to override the default hidden behavior on the sphinx rendered scikit-learn.org. See: https://github.com/scikit-learn/scikit-learn/issues/21755 */display: inline-block !important;position: relative;}#sk-container-id-3 div.sk-text-repr-fallback {display: none;}</style><div id=\"sk-container-id-3\" class=\"sk-top-container\"><div class=\"sk-text-repr-fallback\"><pre>GridSearchCV(cv=5, estimator=DecisionTreeClassifier(), n_jobs=-1,\n",
       "             param_grid={&#x27;criterion&#x27;: [&#x27;gini&#x27;, &#x27;entropy&#x27;],\n",
       "                         &#x27;max_depth&#x27;: [None, 10, 20, 30],\n",
       "                         &#x27;max_features&#x27;: [None, &#x27;auto&#x27;, &#x27;sqrt&#x27;, &#x27;log2&#x27;],\n",
       "                         &#x27;min_samples_leaf&#x27;: [1, 2, 4],\n",
       "                         &#x27;min_samples_split&#x27;: [2, 5, 10]},\n",
       "             scoring=&#x27;accuracy&#x27;)</pre><b>In a Jupyter environment, please rerun this cell to show the HTML representation or trust the notebook. <br />On GitHub, the HTML representation is unable to render, please try loading this page with nbviewer.org.</b></div><div class=\"sk-container\" hidden><div class=\"sk-item sk-dashed-wrapped\"><div class=\"sk-label-container\"><div class=\"sk-label sk-toggleable\"><input class=\"sk-toggleable__control sk-hidden--visually\" id=\"sk-estimator-id-5\" type=\"checkbox\" ><label for=\"sk-estimator-id-5\" class=\"sk-toggleable__label sk-toggleable__label-arrow\">GridSearchCV</label><div class=\"sk-toggleable__content\"><pre>GridSearchCV(cv=5, estimator=DecisionTreeClassifier(), n_jobs=-1,\n",
       "             param_grid={&#x27;criterion&#x27;: [&#x27;gini&#x27;, &#x27;entropy&#x27;],\n",
       "                         &#x27;max_depth&#x27;: [None, 10, 20, 30],\n",
       "                         &#x27;max_features&#x27;: [None, &#x27;auto&#x27;, &#x27;sqrt&#x27;, &#x27;log2&#x27;],\n",
       "                         &#x27;min_samples_leaf&#x27;: [1, 2, 4],\n",
       "                         &#x27;min_samples_split&#x27;: [2, 5, 10]},\n",
       "             scoring=&#x27;accuracy&#x27;)</pre></div></div></div><div class=\"sk-parallel\"><div class=\"sk-parallel-item\"><div class=\"sk-item\"><div class=\"sk-label-container\"><div class=\"sk-label sk-toggleable\"><input class=\"sk-toggleable__control sk-hidden--visually\" id=\"sk-estimator-id-6\" type=\"checkbox\" ><label for=\"sk-estimator-id-6\" class=\"sk-toggleable__label sk-toggleable__label-arrow\">estimator: DecisionTreeClassifier</label><div class=\"sk-toggleable__content\"><pre>DecisionTreeClassifier()</pre></div></div></div><div class=\"sk-serial\"><div class=\"sk-item\"><div class=\"sk-estimator sk-toggleable\"><input class=\"sk-toggleable__control sk-hidden--visually\" id=\"sk-estimator-id-7\" type=\"checkbox\" ><label for=\"sk-estimator-id-7\" class=\"sk-toggleable__label sk-toggleable__label-arrow\">DecisionTreeClassifier</label><div class=\"sk-toggleable__content\"><pre>DecisionTreeClassifier()</pre></div></div></div></div></div></div></div></div></div></div>"
      ],
      "text/plain": [
       "GridSearchCV(cv=5, estimator=DecisionTreeClassifier(), n_jobs=-1,\n",
       "             param_grid={'criterion': ['gini', 'entropy'],\n",
       "                         'max_depth': [None, 10, 20, 30],\n",
       "                         'max_features': [None, 'auto', 'sqrt', 'log2'],\n",
       "                         'min_samples_leaf': [1, 2, 4],\n",
       "                         'min_samples_split': [2, 5, 10]},\n",
       "             scoring='accuracy')"
      ]
     },
     "execution_count": 25,
     "metadata": {},
     "output_type": "execute_result"
    }
   ],
   "source": [
    "# Performing GridSearchCV\n",
    "grid_search = GridSearchCV(estimator=classifier, param_grid=param_grid, cv=5, n_jobs=-1, scoring='accuracy')\n",
    "grid_search.fit(X_train, y_train)"
   ]
  },
  {
   "cell_type": "code",
   "execution_count": 26,
   "id": "7ff4ec21",
   "metadata": {},
   "outputs": [
    {
     "name": "stdout",
     "output_type": "stream",
     "text": [
      "Best Parameters: {'criterion': 'gini', 'max_depth': 30, 'max_features': 'sqrt', 'min_samples_leaf': 4, 'min_samples_split': 2}\n"
     ]
    }
   ],
   "source": [
    "# This approch is similar to First code snippet above this also applicable\n",
    "# Best model and its hyperparameters\n",
    "best_classifier = grid_search.best_estimator_\n",
    "print(\"Best Parameters:\", grid_search.best_params_)"
   ]
  },
  {
   "cell_type": "code",
   "execution_count": 27,
   "id": "b961c978",
   "metadata": {},
   "outputs": [],
   "source": [
    "# Making predictions\n",
    "y_pred = best_classifier.predict(X_test)"
   ]
  },
  {
   "cell_type": "code",
   "execution_count": 28,
   "id": "b7ae770e",
   "metadata": {},
   "outputs": [
    {
     "name": "stdout",
     "output_type": "stream",
     "text": [
      "Accuracy: 0.55\n"
     ]
    }
   ],
   "source": [
    "# Evaluating the model\n",
    "accuracy = accuracy_score(y_test, y_pred)\n",
    "print(\"Accuracy:\", accuracy)"
   ]
  },
  {
   "cell_type": "markdown",
   "id": "f41ba6cb",
   "metadata": {},
   "source": [
    "Pre-Pruning and Post-Pruning is applied using max_depth,max_leaf hyperparameter"
   ]
  },
  {
   "cell_type": "markdown",
   "id": "7164977d",
   "metadata": {},
   "source": [
    "#### Prepared By,\n",
    "Ahamed Basith"
   ]
  },
  {
   "cell_type": "code",
   "execution_count": null,
   "id": "00e7d155",
   "metadata": {},
   "outputs": [],
   "source": []
  }
 ],
 "metadata": {
  "kernelspec": {
   "display_name": "Python 3 (ipykernel)",
   "language": "python",
   "name": "python3"
  },
  "language_info": {
   "codemirror_mode": {
    "name": "ipython",
    "version": 3
   },
   "file_extension": ".py",
   "mimetype": "text/x-python",
   "name": "python",
   "nbconvert_exporter": "python",
   "pygments_lexer": "ipython3",
   "version": "3.11.5"
  }
 },
 "nbformat": 4,
 "nbformat_minor": 5
}
